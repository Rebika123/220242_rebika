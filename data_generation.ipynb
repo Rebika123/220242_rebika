{
  "nbformat": 4,
  "nbformat_minor": 0,
  "metadata": {
    "colab": {
      "provenance": [],
      "authorship_tag": "ABX9TyNpGXfgbHkCc355V+Byx8Ml",
      "include_colab_link": true
    },
    "kernelspec": {
      "name": "python3",
      "display_name": "Python 3"
    },
    "language_info": {
      "name": "python"
    }
  },
  "cells": [
    {
      "cell_type": "markdown",
      "metadata": {
        "id": "view-in-github",
        "colab_type": "text"
      },
      "source": [
        "<a href=\"https://colab.research.google.com/github/Rebika123/220242_rebika/blob/master/data_generation.ipynb\" target=\"_parent\"><img src=\"https://colab.research.google.com/assets/colab-badge.svg\" alt=\"Open In Colab\"/></a>"
      ]
    },
    {
      "cell_type": "code",
      "execution_count": 3,
      "metadata": {
        "id": "3dg4m252hx3L",
        "colab": {
          "base_uri": "https://localhost:8080/",
          "height": 106
        },
        "outputId": "d6e52b0d-b744-4368-8dcc-bdcb999bd768"
      },
      "outputs": [
        {
          "output_type": "error",
          "ename": "SyntaxError",
          "evalue": "invalid syntax. Perhaps you forgot a comma? (<ipython-input-3-3126263036>, line 50)",
          "traceback": [
            "\u001b[0;36m  File \u001b[0;32m\"<ipython-input-3-3126263036>\"\u001b[0;36m, line \u001b[0;32m50\u001b[0m\n\u001b[0;31m    'is_attack':1\u001b[0m\n\u001b[0m                ^\u001b[0m\n\u001b[0;31mSyntaxError\u001b[0m\u001b[0;31m:\u001b[0m invalid syntax. Perhaps you forgot a comma?\n"
          ]
        }
      ],
      "source": [
        "def generate_normal_traffic():\n",
        "  \"\"\"\n",
        "  Generate normal traffic data.\n",
        "  \"\"\"\n",
        "  return {\n",
        "      'timestamp':datetime.now() - timedelta(seconds=np.random.randit(0, 86400)),\n",
        "      'source_ip':f'192.168.{np.random.randint(1, 255)}.{np.random.randint(0, 255)}',\n",
        "      'destination_ip':f'10.0.{np.random.randint(1, 255)}.{np.random.randint(0, 255)}',\n",
        "      'protocol': np.random.choice(['TCP', 'UDP', 'ICMP']),\n",
        "      'port':np.random.randint(1, 65535),\n",
        "      'bytes':np.random.randint(1500, 500),\n",
        "      'packets':np.random.randit(1, 100),\n",
        "      'duration':np.random.randit(30),\n",
        "      'is_attact': 0\n",
        "  }\n",
        "def generate_attack_traffic():\n",
        "  \"\"\"\n",
        "  Generate attack traffic data.\n",
        "  \"\"\"\n",
        "  attack_types = {\n",
        "  'ddos':{\n",
        "      'bytes':np.random.randint(15000, 1000),\n",
        "      'packets':np.random.randit(500, 1000),\n",
        "      'duration':np.random.randit(5)\n",
        "  },\n",
        "  'port_scan':{\n",
        "      'bytes':np.random.randint(100, 20),\n",
        "      'packets':np.random.randit(1, 3),\n",
        "      'duration':np.random.randit(0.1)\n",
        "  },\n",
        "  'brute_force':{\n",
        "      'bytes':np.random.randint(500, 100),\n",
        "      'packets':np.random.randit(10, 50),\n",
        "      'duration':np.random.randit(1)\n",
        "      },\n",
        "\n",
        "}\n",
        "attack_type= np.random.choice(list(attack_types.keys()))\n",
        "attack_data = attack_types[attack_type]\n",
        "\n",
        "return {\n",
        "    'timestamps':datetime.now() - timedelta(seconds=np.random.randit(0, 86400)),\n",
        "    'source_ip':f\"45.{np.random.randint(1, 255)}.{np.random.randint(1, 255)}.{np.random.randint(1, 255)}\",\n",
        "    'destination_ip': f\"10.0{np.random.randint(1, 255)}.{np.random.randint(1, 255)}.{np.random.randint(1, 255)}\",\n",
        "    'protocol':np.random.choice(['TCP', 'UDP', 'ICMP']),\n",
        "    'port':np.random.randint(1, 65535),\n",
        "    'bytes':attack_params['bytes'],\n",
        "    'packets':attack_params['packets'],\n",
        "    'duration':attack_params['duration'],\n",
        "    'is_attack':1\n",
        "    'attack_type':attack_type\n",
        "}"
      ]
    },
    {
      "cell_type": "code",
      "source": [],
      "metadata": {
        "id": "Mhtsw9cjxwG0"
      },
      "execution_count": null,
      "outputs": []
    },
    {
      "cell_type": "code",
      "source": [],
      "metadata": {
        "id": "rRlJ9RB5xvpZ"
      },
      "execution_count": null,
      "outputs": []
    }
  ]
}